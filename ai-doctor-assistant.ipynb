{
 "cells": [
  {
   "cell_type": "markdown",
   "id": "9fbce6a5",
   "metadata": {
    "papermill": {
     "duration": 0.00925,
     "end_time": "2024-11-25T20:53:51.841290",
     "exception": false,
     "start_time": "2024-11-25T20:53:51.832040",
     "status": "completed"
    },
    "tags": []
   },
   "source": [
    "## AI Doctor Assistant\n",
    "***\n",
    "* Here we will demonstrate how to leverage Gemini's long context window to read information from many EMA (European Medicines Agency) drugs to provide assistance to doctors and patients.\n",
    "\n",
    "* The data came from the [EMA](https://www.ema.europa.eu/en/medicines/download-medicine-data) website. The list of medicines was filtered to obtain only the authorised human medicines. Then web scraping was done to get the English overview pdf file of each medicine. [Here is](https://www.ema.europa.eu/en/documents/overview/qdenga-epar-medicine-overview_en.pdf) an example of a pdf file.\n",
    "\n",
    "* Warning: The AI's responses should not be considered a substitute for consultation with a qualified healthcare professional."
   ]
  },
  {
   "cell_type": "markdown",
   "id": "139521d2",
   "metadata": {
    "papermill": {
     "duration": 0.008776,
     "end_time": "2024-11-25T20:53:51.858662",
     "exception": false,
     "start_time": "2024-11-25T20:53:51.849886",
     "status": "completed"
    },
    "tags": []
   },
   "source": [
    "## Import Python Packages"
   ]
  },
  {
   "cell_type": "code",
   "execution_count": 1,
   "id": "1724ec8c",
   "metadata": {
    "_kg_hide-input": false,
    "execution": {
     "iopub.execute_input": "2024-11-25T20:53:51.876295Z",
     "iopub.status.busy": "2024-11-25T20:53:51.875867Z",
     "iopub.status.idle": "2024-11-25T20:53:54.494273Z",
     "shell.execute_reply": "2024-11-25T20:53:54.493095Z"
    },
    "papermill": {
     "duration": 2.630331,
     "end_time": "2024-11-25T20:53:54.496844",
     "exception": false,
     "start_time": "2024-11-25T20:53:51.866513",
     "status": "completed"
    },
    "tags": []
   },
   "outputs": [],
   "source": [
    "import os\n",
    "import time\n",
    "import shutil\n",
    "import requests\n",
    "import datetime\n",
    "import pandas as pd\n",
    "import urllib.request\n",
    "from tqdm import tqdm\n",
    "from bs4 import BeautifulSoup\n",
    "from urllib.parse import urljoin\n",
    "import google.generativeai as genai\n",
    "from IPython.display import Markdown\n",
    "from google.generativeai import caching\n",
    "from kaggle_secrets import UserSecretsClient"
   ]
  },
  {
   "cell_type": "markdown",
   "id": "c64e2be7",
   "metadata": {
    "papermill": {
     "duration": 0.010116,
     "end_time": "2024-11-25T20:53:54.515192",
     "exception": false,
     "start_time": "2024-11-25T20:53:54.505076",
     "status": "completed"
    },
    "tags": []
   },
   "source": [
    "## Get the Data"
   ]
  },
  {
   "cell_type": "code",
   "execution_count": 2,
   "id": "9390e1f7",
   "metadata": {
    "execution": {
     "iopub.execute_input": "2024-11-25T20:53:54.533713Z",
     "iopub.status.busy": "2024-11-25T20:53:54.533144Z",
     "iopub.status.idle": "2024-11-25T20:53:54.981736Z",
     "shell.execute_reply": "2024-11-25T20:53:54.980377Z"
    },
    "papermill": {
     "duration": 0.460808,
     "end_time": "2024-11-25T20:53:54.984099",
     "exception": false,
     "start_time": "2024-11-25T20:53:54.523291",
     "status": "completed"
    },
    "tags": []
   },
   "outputs": [
    {
     "data": {
      "text/html": [
       "<div>\n",
       "<style scoped>\n",
       "    .dataframe tbody tr th:only-of-type {\n",
       "        vertical-align: middle;\n",
       "    }\n",
       "\n",
       "    .dataframe tbody tr th {\n",
       "        vertical-align: top;\n",
       "    }\n",
       "\n",
       "    .dataframe thead th {\n",
       "        text-align: right;\n",
       "    }\n",
       "</style>\n",
       "<table border=\"1\" class=\"dataframe\">\n",
       "  <thead>\n",
       "    <tr style=\"text-align: right;\">\n",
       "      <th></th>\n",
       "      <th>Name of medicine</th>\n",
       "      <th>Pharmacotherapeutic group</th>\n",
       "      <th>Medicine URL</th>\n",
       "      <th>file_downloaded</th>\n",
       "    </tr>\n",
       "  </thead>\n",
       "  <tbody>\n",
       "    <tr>\n",
       "      <th>0</th>\n",
       "      <td>Pylclari</td>\n",
       "      <td>Diagnostic radiopharmaceuticals</td>\n",
       "      <td>https://www.ema.europa.eu/en/medicines/human/E...</td>\n",
       "      <td></td>\n",
       "    </tr>\n",
       "    <tr>\n",
       "      <th>1</th>\n",
       "      <td>Ganfort</td>\n",
       "      <td>Ophthalmologicals</td>\n",
       "      <td>https://www.ema.europa.eu/en/medicines/human/E...</td>\n",
       "      <td></td>\n",
       "    </tr>\n",
       "    <tr>\n",
       "      <th>2</th>\n",
       "      <td>Lumigan</td>\n",
       "      <td>Prostaglandin analogues</td>\n",
       "      <td>https://www.ema.europa.eu/en/medicines/human/E...</td>\n",
       "      <td></td>\n",
       "    </tr>\n",
       "    <tr>\n",
       "      <th>3</th>\n",
       "      <td>MenQuadfi</td>\n",
       "      <td>Vaccines</td>\n",
       "      <td>https://www.ema.europa.eu/en/medicines/human/E...</td>\n",
       "      <td></td>\n",
       "    </tr>\n",
       "    <tr>\n",
       "      <th>4</th>\n",
       "      <td>Celsunax</td>\n",
       "      <td>Diagnostic radiopharmaceuticals</td>\n",
       "      <td>https://www.ema.europa.eu/en/medicines/human/E...</td>\n",
       "      <td></td>\n",
       "    </tr>\n",
       "  </tbody>\n",
       "</table>\n",
       "</div>"
      ],
      "text/plain": [
       "  Name of medicine        Pharmacotherapeutic group  \\\n",
       "0         Pylclari  Diagnostic radiopharmaceuticals   \n",
       "1          Ganfort                Ophthalmologicals   \n",
       "2          Lumigan          Prostaglandin analogues   \n",
       "3        MenQuadfi                         Vaccines   \n",
       "4         Celsunax  Diagnostic radiopharmaceuticals   \n",
       "\n",
       "                                        Medicine URL file_downloaded  \n",
       "0  https://www.ema.europa.eu/en/medicines/human/E...                  \n",
       "1  https://www.ema.europa.eu/en/medicines/human/E...                  \n",
       "2  https://www.ema.europa.eu/en/medicines/human/E...                  \n",
       "3  https://www.ema.europa.eu/en/medicines/human/E...                  \n",
       "4  https://www.ema.europa.eu/en/medicines/human/E...                  "
      ]
     },
     "execution_count": 2,
     "metadata": {},
     "output_type": "execute_result"
    }
   ],
   "source": [
    "medicines_df = pd.read_excel('/kaggle/input/medicines/ema_medicines.xlsx')\n",
    "medicines_df['file_downloaded'] = ''\n",
    "medicines_df.head()"
   ]
  },
  {
   "cell_type": "code",
   "execution_count": 3,
   "id": "d7619184",
   "metadata": {
    "execution": {
     "iopub.execute_input": "2024-11-25T20:53:55.003736Z",
     "iopub.status.busy": "2024-11-25T20:53:55.002707Z",
     "iopub.status.idle": "2024-11-25T20:53:55.009106Z",
     "shell.execute_reply": "2024-11-25T20:53:55.007985Z"
    },
    "papermill": {
     "duration": 0.018241,
     "end_time": "2024-11-25T20:53:55.011183",
     "exception": false,
     "start_time": "2024-11-25T20:53:54.992942",
     "status": "completed"
    },
    "tags": []
   },
   "outputs": [
    {
     "name": "stdout",
     "output_type": "stream",
     "text": [
      "There are 1437 medicines.\n"
     ]
    }
   ],
   "source": [
    "print('There are', len(medicines_df), 'medicines.')"
   ]
  },
  {
   "cell_type": "code",
   "execution_count": 4,
   "id": "69bbc0ba",
   "metadata": {
    "execution": {
     "iopub.execute_input": "2024-11-25T20:53:55.030001Z",
     "iopub.status.busy": "2024-11-25T20:53:55.029059Z",
     "iopub.status.idle": "2024-11-25T20:53:55.037407Z",
     "shell.execute_reply": "2024-11-25T20:53:55.036169Z"
    },
    "papermill": {
     "duration": 0.02072,
     "end_time": "2024-11-25T20:53:55.040152",
     "exception": false,
     "start_time": "2024-11-25T20:53:55.019432",
     "status": "completed"
    },
    "tags": []
   },
   "outputs": [
    {
     "name": "stdout",
     "output_type": "stream",
     "text": [
      "There are 157 pharmacotherapeutic groups.\n"
     ]
    }
   ],
   "source": [
    "print('There are', medicines_df['Pharmacotherapeutic group'].nunique(), 'pharmacotherapeutic groups.')"
   ]
  },
  {
   "cell_type": "markdown",
   "id": "4d45ecf7",
   "metadata": {
    "papermill": {
     "duration": 0.008236,
     "end_time": "2024-11-25T20:53:55.057220",
     "exception": false,
     "start_time": "2024-11-25T20:53:55.048984",
     "status": "completed"
    },
    "tags": []
   },
   "source": [
    "* Since there are so many medications (1437), it would not be feasible to load them all, as it would be thousands of pages in PDF files. So our strategy will be to filter by the pharmacological group we want to ask questions about. Suppose we want to get information about vaccines, then we will load only the medications in the \"Vaccines\" group.\n",
    "\n",
    "* Note: You can choose any other group by changing the line below."
   ]
  },
  {
   "cell_type": "code",
   "execution_count": 5,
   "id": "fb6f3f3d",
   "metadata": {
    "execution": {
     "iopub.execute_input": "2024-11-25T20:53:55.075630Z",
     "iopub.status.busy": "2024-11-25T20:53:55.075270Z",
     "iopub.status.idle": "2024-11-25T20:53:55.080471Z",
     "shell.execute_reply": "2024-11-25T20:53:55.079274Z"
    },
    "papermill": {
     "duration": 0.017149,
     "end_time": "2024-11-25T20:53:55.082608",
     "exception": false,
     "start_time": "2024-11-25T20:53:55.065459",
     "status": "completed"
    },
    "tags": []
   },
   "outputs": [],
   "source": [
    "group = 'vaccine'"
   ]
  },
  {
   "cell_type": "code",
   "execution_count": 6,
   "id": "bd74640c",
   "metadata": {
    "execution": {
     "iopub.execute_input": "2024-11-25T20:53:55.101345Z",
     "iopub.status.busy": "2024-11-25T20:53:55.100885Z",
     "iopub.status.idle": "2024-11-25T20:53:55.115274Z",
     "shell.execute_reply": "2024-11-25T20:53:55.114238Z"
    },
    "papermill": {
     "duration": 0.026793,
     "end_time": "2024-11-25T20:53:55.117750",
     "exception": false,
     "start_time": "2024-11-25T20:53:55.090957",
     "status": "completed"
    },
    "tags": []
   },
   "outputs": [],
   "source": [
    "# Filter only the group chosen above\n",
    "medicines_df = medicines_df[medicines_df[\"Pharmacotherapeutic group\"].str.lower().str.contains(group, na=False)]\n",
    "medicines_df = medicines_df.reset_index(drop=True)"
   ]
  },
  {
   "cell_type": "code",
   "execution_count": 7,
   "id": "783f63e0",
   "metadata": {
    "execution": {
     "iopub.execute_input": "2024-11-25T20:53:55.136415Z",
     "iopub.status.busy": "2024-11-25T20:53:55.136008Z",
     "iopub.status.idle": "2024-11-25T20:53:55.149151Z",
     "shell.execute_reply": "2024-11-25T20:53:55.147987Z"
    },
    "papermill": {
     "duration": 0.025195,
     "end_time": "2024-11-25T20:53:55.151417",
     "exception": false,
     "start_time": "2024-11-25T20:53:55.126222",
     "status": "completed"
    },
    "tags": []
   },
   "outputs": [
    {
     "data": {
      "text/html": [
       "<div>\n",
       "<style scoped>\n",
       "    .dataframe tbody tr th:only-of-type {\n",
       "        vertical-align: middle;\n",
       "    }\n",
       "\n",
       "    .dataframe tbody tr th {\n",
       "        vertical-align: top;\n",
       "    }\n",
       "\n",
       "    .dataframe thead th {\n",
       "        text-align: right;\n",
       "    }\n",
       "</style>\n",
       "<table border=\"1\" class=\"dataframe\">\n",
       "  <thead>\n",
       "    <tr style=\"text-align: right;\">\n",
       "      <th></th>\n",
       "      <th>Name of medicine</th>\n",
       "      <th>Pharmacotherapeutic group</th>\n",
       "      <th>Medicine URL</th>\n",
       "      <th>file_downloaded</th>\n",
       "    </tr>\n",
       "  </thead>\n",
       "  <tbody>\n",
       "    <tr>\n",
       "      <th>0</th>\n",
       "      <td>MenQuadfi</td>\n",
       "      <td>Vaccines</td>\n",
       "      <td>https://www.ema.europa.eu/en/medicines/human/E...</td>\n",
       "      <td></td>\n",
       "    </tr>\n",
       "    <tr>\n",
       "      <th>1</th>\n",
       "      <td>M-M-RVaxPro</td>\n",
       "      <td>Vaccines</td>\n",
       "      <td>https://www.ema.europa.eu/en/medicines/human/E...</td>\n",
       "      <td></td>\n",
       "    </tr>\n",
       "    <tr>\n",
       "      <th>2</th>\n",
       "      <td>Qdenga</td>\n",
       "      <td>Vaccines</td>\n",
       "      <td>https://www.ema.europa.eu/en/medicines/human/E...</td>\n",
       "      <td></td>\n",
       "    </tr>\n",
       "    <tr>\n",
       "      <th>3</th>\n",
       "      <td>Aflunov</td>\n",
       "      <td>Vaccines</td>\n",
       "      <td>https://www.ema.europa.eu/en/medicines/human/E...</td>\n",
       "      <td></td>\n",
       "    </tr>\n",
       "    <tr>\n",
       "      <th>4</th>\n",
       "      <td>Gardasil</td>\n",
       "      <td>Vaccines</td>\n",
       "      <td>https://www.ema.europa.eu/en/medicines/human/E...</td>\n",
       "      <td></td>\n",
       "    </tr>\n",
       "    <tr>\n",
       "      <th>5</th>\n",
       "      <td>Nimenrix</td>\n",
       "      <td>Vaccines</td>\n",
       "      <td>https://www.ema.europa.eu/en/medicines/human/E...</td>\n",
       "      <td></td>\n",
       "    </tr>\n",
       "    <tr>\n",
       "      <th>6</th>\n",
       "      <td>Nuvaxovid</td>\n",
       "      <td>Covid-19 vaccines</td>\n",
       "      <td>https://www.ema.europa.eu/en/medicines/human/E...</td>\n",
       "      <td></td>\n",
       "    </tr>\n",
       "    <tr>\n",
       "      <th>7</th>\n",
       "      <td>Imvanex</td>\n",
       "      <td>Other viral vaccines</td>\n",
       "      <td>https://www.ema.europa.eu/en/medicines/human/E...</td>\n",
       "      <td></td>\n",
       "    </tr>\n",
       "    <tr>\n",
       "      <th>8</th>\n",
       "      <td>Comirnaty</td>\n",
       "      <td>Vaccines</td>\n",
       "      <td>https://www.ema.europa.eu/en/medicines/human/E...</td>\n",
       "      <td></td>\n",
       "    </tr>\n",
       "    <tr>\n",
       "      <th>9</th>\n",
       "      <td>Gardasil 9</td>\n",
       "      <td>Papillomavirus vaccines</td>\n",
       "      <td>https://www.ema.europa.eu/en/medicines/human/E...</td>\n",
       "      <td></td>\n",
       "    </tr>\n",
       "  </tbody>\n",
       "</table>\n",
       "</div>"
      ],
      "text/plain": [
       "  Name of medicine Pharmacotherapeutic group  \\\n",
       "0        MenQuadfi                  Vaccines   \n",
       "1      M-M-RVaxPro                  Vaccines   \n",
       "2           Qdenga                  Vaccines   \n",
       "3          Aflunov                  Vaccines   \n",
       "4         Gardasil                  Vaccines   \n",
       "5         Nimenrix                  Vaccines   \n",
       "6        Nuvaxovid         Covid-19 vaccines   \n",
       "7          Imvanex      Other viral vaccines   \n",
       "8        Comirnaty                  Vaccines   \n",
       "9       Gardasil 9   Papillomavirus vaccines   \n",
       "\n",
       "                                        Medicine URL file_downloaded  \n",
       "0  https://www.ema.europa.eu/en/medicines/human/E...                  \n",
       "1  https://www.ema.europa.eu/en/medicines/human/E...                  \n",
       "2  https://www.ema.europa.eu/en/medicines/human/E...                  \n",
       "3  https://www.ema.europa.eu/en/medicines/human/E...                  \n",
       "4  https://www.ema.europa.eu/en/medicines/human/E...                  \n",
       "5  https://www.ema.europa.eu/en/medicines/human/E...                  \n",
       "6  https://www.ema.europa.eu/en/medicines/human/E...                  \n",
       "7  https://www.ema.europa.eu/en/medicines/human/E...                  \n",
       "8  https://www.ema.europa.eu/en/medicines/human/E...                  \n",
       "9  https://www.ema.europa.eu/en/medicines/human/E...                  "
      ]
     },
     "execution_count": 7,
     "metadata": {},
     "output_type": "execute_result"
    }
   ],
   "source": [
    "medicines_df.head(10)"
   ]
  },
  {
   "cell_type": "code",
   "execution_count": 8,
   "id": "aabf18be",
   "metadata": {
    "execution": {
     "iopub.execute_input": "2024-11-25T20:53:55.170901Z",
     "iopub.status.busy": "2024-11-25T20:53:55.170467Z",
     "iopub.status.idle": "2024-11-25T20:53:55.177008Z",
     "shell.execute_reply": "2024-11-25T20:53:55.175762Z"
    },
    "papermill": {
     "duration": 0.019568,
     "end_time": "2024-11-25T20:53:55.179572",
     "exception": false,
     "start_time": "2024-11-25T20:53:55.160004",
     "status": "completed"
    },
    "tags": []
   },
   "outputs": [
    {
     "name": "stdout",
     "output_type": "stream",
     "text": [
      "There are 56 vaccines.\n"
     ]
    }
   ],
   "source": [
    "print('There are', len(medicines_df), 'vaccines.')"
   ]
  },
  {
   "cell_type": "markdown",
   "id": "0ce2fda7",
   "metadata": {
    "papermill": {
     "duration": 0.008984,
     "end_time": "2024-11-25T20:53:55.197800",
     "exception": false,
     "start_time": "2024-11-25T20:53:55.188816",
     "status": "completed"
    },
    "tags": []
   },
   "source": [
    "## Web Scraping"
   ]
  },
  {
   "cell_type": "markdown",
   "id": "427e85a1",
   "metadata": {
    "papermill": {
     "duration": 0.008838,
     "end_time": "2024-11-25T20:53:55.215524",
     "exception": false,
     "start_time": "2024-11-25T20:53:55.206686",
     "status": "completed"
    },
    "tags": []
   },
   "source": [
    "Now we need to scrape the EMA (European Medicines Agency) website to download the medicine overview pdf file of each medicine from the selected group (Vaccines)."
   ]
  },
  {
   "cell_type": "code",
   "execution_count": 9,
   "id": "c2ef08e0",
   "metadata": {
    "execution": {
     "iopub.execute_input": "2024-11-25T20:53:55.236132Z",
     "iopub.status.busy": "2024-11-25T20:53:55.235717Z",
     "iopub.status.idle": "2024-11-25T20:53:55.241698Z",
     "shell.execute_reply": "2024-11-25T20:53:55.240372Z"
    },
    "papermill": {
     "duration": 0.01923,
     "end_time": "2024-11-25T20:53:55.244018",
     "exception": false,
     "start_time": "2024-11-25T20:53:55.224788",
     "status": "completed"
    },
    "tags": []
   },
   "outputs": [],
   "source": [
    "# Create a folder to download the files\n",
    "folder_location = r'ema_medicines'\n",
    "if not os.path.exists(folder_location):os.mkdir(folder_location)"
   ]
  },
  {
   "cell_type": "code",
   "execution_count": 10,
   "id": "0869c113",
   "metadata": {
    "execution": {
     "iopub.execute_input": "2024-11-25T20:53:55.265322Z",
     "iopub.status.busy": "2024-11-25T20:53:55.263640Z",
     "iopub.status.idle": "2024-11-25T20:53:55.273350Z",
     "shell.execute_reply": "2024-11-25T20:53:55.272055Z"
    },
    "papermill": {
     "duration": 0.022713,
     "end_time": "2024-11-25T20:53:55.275680",
     "exception": false,
     "start_time": "2024-11-25T20:53:55.252967",
     "status": "completed"
    },
    "tags": []
   },
   "outputs": [],
   "source": [
    "# Create the function to download the english files\n",
    "downloads = 0\n",
    "\n",
    "def download_files():\n",
    "    \"\"\"\n",
    "    Function to download the pdf file of each medicine.\n",
    "    \"\"\"\n",
    "    global medicines_df, downloads\n",
    "    \n",
    "    for i in tqdm(range(medicines_df.shape[0]), desc=\"Downloading files\"):\n",
    "        if medicines_df.loc[i,'file_downloaded'] != '':\n",
    "            continue\n",
    "        url = medicines_df.loc[i,'Medicine URL']\n",
    "        response = requests.get(url)\n",
    "        soup= BeautifulSoup(response.text, \"html.parser\")     \n",
    "        for link in soup.select(\"a[href$='en.pdf']\"):\n",
    "            filename = os.path.join(folder_location,link['href'].split('/')[-1])\n",
    "            if 'epar-medicine-overview' not in filename and 'epar-medicines-overview' not in filename and 'epar-overview' not in filename and 'epar-summary-public' not in filename:\n",
    "                continue\n",
    "            urllib.request.urlretrieve(urljoin(url,link['href']), filename)\n",
    "            medicines_df.loc[i,'file_downloaded'] = filename.split('/')[1]\n",
    "            downloads += 1\n",
    "            time.sleep(7)\n",
    "            break\n",
    "    print('downloads:', downloads)"
   ]
  },
  {
   "cell_type": "code",
   "execution_count": 11,
   "id": "8b6758ac",
   "metadata": {
    "execution": {
     "iopub.execute_input": "2024-11-25T20:53:55.295167Z",
     "iopub.status.busy": "2024-11-25T20:53:55.294711Z",
     "iopub.status.idle": "2024-11-25T21:00:48.899015Z",
     "shell.execute_reply": "2024-11-25T21:00:48.897644Z"
    },
    "papermill": {
     "duration": 413.617754,
     "end_time": "2024-11-25T21:00:48.902423",
     "exception": false,
     "start_time": "2024-11-25T20:53:55.284669",
     "status": "completed"
    },
    "tags": []
   },
   "outputs": [
    {
     "name": "stderr",
     "output_type": "stream",
     "text": [
      "Downloading files: 100%|██████████| 56/56 [06:53<00:00,  7.39s/it]"
     ]
    },
    {
     "name": "stdout",
     "output_type": "stream",
     "text": [
      "downloads: 56\n"
     ]
    },
    {
     "name": "stderr",
     "output_type": "stream",
     "text": [
      "\n"
     ]
    }
   ],
   "source": [
    "# Set a number of attempts and start downloading\n",
    "retry = 5\n",
    "for k in range(retry):\n",
    "    if downloads == medicines_df.shape[0]:\n",
    "        break\n",
    "    download_files()"
   ]
  },
  {
   "cell_type": "code",
   "execution_count": 12,
   "id": "bb3c8192",
   "metadata": {
    "execution": {
     "iopub.execute_input": "2024-11-25T21:00:48.929945Z",
     "iopub.status.busy": "2024-11-25T21:00:48.928831Z",
     "iopub.status.idle": "2024-11-25T21:00:48.936230Z",
     "shell.execute_reply": "2024-11-25T21:00:48.934974Z"
    },
    "papermill": {
     "duration": 0.023902,
     "end_time": "2024-11-25T21:00:48.938522",
     "exception": false,
     "start_time": "2024-11-25T21:00:48.914620",
     "status": "completed"
    },
    "tags": []
   },
   "outputs": [
    {
     "name": "stdout",
     "output_type": "stream",
     "text": [
      "The first two files: ['abrysvo-epar-medicine-overview_en.pdf', 'twinrix-adult-epar-summary-public_en.pdf']\n"
     ]
    }
   ],
   "source": [
    "# Get a list of the downloaded files\n",
    "pdf_files = os.listdir('/kaggle/working/ema_medicines')\n",
    "print('The first two files:', pdf_files[:2])"
   ]
  },
  {
   "cell_type": "code",
   "execution_count": 13,
   "id": "d9766b73",
   "metadata": {
    "execution": {
     "iopub.execute_input": "2024-11-25T21:00:48.964306Z",
     "iopub.status.busy": "2024-11-25T21:00:48.963856Z",
     "iopub.status.idle": "2024-11-25T21:00:48.970332Z",
     "shell.execute_reply": "2024-11-25T21:00:48.969121Z"
    },
    "papermill": {
     "duration": 0.02203,
     "end_time": "2024-11-25T21:00:48.972401",
     "exception": false,
     "start_time": "2024-11-25T21:00:48.950371",
     "status": "completed"
    },
    "tags": []
   },
   "outputs": [
    {
     "name": "stdout",
     "output_type": "stream",
     "text": [
      "There are 56 pdf files.\n"
     ]
    }
   ],
   "source": [
    "print('There are', len(pdf_files), 'pdf files.')"
   ]
  },
  {
   "cell_type": "markdown",
   "id": "3d4d4470",
   "metadata": {
    "papermill": {
     "duration": 0.011454,
     "end_time": "2024-11-25T21:00:48.996298",
     "exception": false,
     "start_time": "2024-11-25T21:00:48.984844",
     "status": "completed"
    },
    "tags": []
   },
   "source": [
    "## Create a single file"
   ]
  },
  {
   "cell_type": "markdown",
   "id": "2c63e615",
   "metadata": {
    "papermill": {
     "duration": 0.012643,
     "end_time": "2024-11-25T21:00:49.020854",
     "exception": false,
     "start_time": "2024-11-25T21:00:49.008211",
     "status": "completed"
    },
    "tags": []
   },
   "source": [
    "We will use pymupdf to merge all the pdf files into a single file for easier manipulation."
   ]
  },
  {
   "cell_type": "code",
   "execution_count": 14,
   "id": "817b64dd",
   "metadata": {
    "execution": {
     "iopub.execute_input": "2024-11-25T21:00:49.046880Z",
     "iopub.status.busy": "2024-11-25T21:00:49.046390Z",
     "iopub.status.idle": "2024-11-25T21:01:04.037288Z",
     "shell.execute_reply": "2024-11-25T21:01:04.035463Z"
    },
    "papermill": {
     "duration": 15.007602,
     "end_time": "2024-11-25T21:01:04.040158",
     "exception": false,
     "start_time": "2024-11-25T21:00:49.032556",
     "status": "completed"
    },
    "tags": []
   },
   "outputs": [
    {
     "name": "stdout",
     "output_type": "stream",
     "text": [
      "Collecting pymupdf\r\n",
      "  Downloading PyMuPDF-1.24.14-cp39-abi3-manylinux2014_x86_64.manylinux_2_17_x86_64.whl.metadata (3.4 kB)\r\n",
      "Downloading PyMuPDF-1.24.14-cp39-abi3-manylinux2014_x86_64.manylinux_2_17_x86_64.whl (19.8 MB)\r\n",
      "\u001b[2K   \u001b[90m━━━━━━━━━━━━━━━━━━━━━━━━━━━━━━━━━━━━━━━━\u001b[0m \u001b[32m19.8/19.8 MB\u001b[0m \u001b[31m63.4 MB/s\u001b[0m eta \u001b[36m0:00:00\u001b[0m\r\n",
      "\u001b[?25hInstalling collected packages: pymupdf\r\n",
      "Successfully installed pymupdf-1.24.14\r\n"
     ]
    }
   ],
   "source": [
    "!pip install pymupdf"
   ]
  },
  {
   "cell_type": "code",
   "execution_count": 15,
   "id": "a16654be",
   "metadata": {
    "execution": {
     "iopub.execute_input": "2024-11-25T21:01:04.068219Z",
     "iopub.status.busy": "2024-11-25T21:01:04.067737Z",
     "iopub.status.idle": "2024-11-25T21:01:04.354511Z",
     "shell.execute_reply": "2024-11-25T21:01:04.353320Z"
    },
    "papermill": {
     "duration": 0.303617,
     "end_time": "2024-11-25T21:01:04.357361",
     "exception": false,
     "start_time": "2024-11-25T21:01:04.053744",
     "status": "completed"
    },
    "tags": []
   },
   "outputs": [],
   "source": [
    "# Merge pdf files\n",
    "import pymupdf\n",
    "\n",
    "doc = pymupdf.open()\n",
    "for filename in pdf_files:\n",
    "    doc.insert_file(f'/kaggle/working/ema_medicines/{filename}')\n",
    "\n",
    "doc.save('medicines.pdf')\n",
    "doc.close()"
   ]
  },
  {
   "cell_type": "code",
   "execution_count": 16,
   "id": "3d2290f9",
   "metadata": {
    "execution": {
     "iopub.execute_input": "2024-11-25T21:01:04.386330Z",
     "iopub.status.busy": "2024-11-25T21:01:04.385943Z",
     "iopub.status.idle": "2024-11-25T21:01:04.391416Z",
     "shell.execute_reply": "2024-11-25T21:01:04.390179Z"
    },
    "papermill": {
     "duration": 0.02328,
     "end_time": "2024-11-25T21:01:04.393823",
     "exception": false,
     "start_time": "2024-11-25T21:01:04.370543",
     "status": "completed"
    },
    "tags": []
   },
   "outputs": [],
   "source": [
    "pdf_file = '/kaggle/working/medicines.pdf'"
   ]
  },
  {
   "cell_type": "markdown",
   "id": "633e769b",
   "metadata": {
    "papermill": {
     "duration": 0.011875,
     "end_time": "2024-11-25T21:01:04.418155",
     "exception": false,
     "start_time": "2024-11-25T21:01:04.406280",
     "status": "completed"
    },
    "tags": []
   },
   "source": [
    "## Authenticate with Google Generative AI"
   ]
  },
  {
   "cell_type": "code",
   "execution_count": 17,
   "id": "00c4d252",
   "metadata": {
    "_kg_hide-input": false,
    "execution": {
     "iopub.execute_input": "2024-11-25T21:01:04.444473Z",
     "iopub.status.busy": "2024-11-25T21:01:04.444089Z",
     "iopub.status.idle": "2024-11-25T21:01:04.643153Z",
     "shell.execute_reply": "2024-11-25T21:01:04.641510Z"
    },
    "papermill": {
     "duration": 0.21535,
     "end_time": "2024-11-25T21:01:04.645820",
     "exception": false,
     "start_time": "2024-11-25T21:01:04.430470",
     "status": "completed"
    },
    "tags": []
   },
   "outputs": [],
   "source": [
    "user_secrets = UserSecretsClient()\n",
    "ai_studio_token = user_secrets.get_secret(\"ai_studio_token\")\n",
    "genai.configure(api_key=ai_studio_token)"
   ]
  },
  {
   "cell_type": "markdown",
   "id": "afde6747",
   "metadata": {
    "papermill": {
     "duration": 0.012009,
     "end_time": "2024-11-25T21:01:04.670430",
     "exception": false,
     "start_time": "2024-11-25T21:01:04.658421",
     "status": "completed"
    },
    "tags": []
   },
   "source": [
    "## Define Helper Functions"
   ]
  },
  {
   "cell_type": "code",
   "execution_count": 18,
   "id": "1f1b38c1",
   "metadata": {
    "execution": {
     "iopub.execute_input": "2024-11-25T21:01:04.697975Z",
     "iopub.status.busy": "2024-11-25T21:01:04.697545Z",
     "iopub.status.idle": "2024-11-25T21:01:04.705825Z",
     "shell.execute_reply": "2024-11-25T21:01:04.704475Z"
    },
    "papermill": {
     "duration": 0.025305,
     "end_time": "2024-11-25T21:01:04.708074",
     "exception": false,
     "start_time": "2024-11-25T21:01:04.682769",
     "status": "completed"
    },
    "tags": []
   },
   "outputs": [],
   "source": [
    "def upload_to_gemini(file, mime_type=None):\n",
    "    \"\"\"Uploads the given files to Gemini.\n",
    "\n",
    "    See https://ai.google.dev/gemini-api/docs/prompting_with_media\n",
    "    \"\"\"\n",
    "    file = genai.upload_file(file, mime_type=mime_type)\n",
    "    print(f\"Uploaded file '{file.display_name}' as: {file.uri}\")\n",
    "    return file\n",
    "\n",
    "def wait_for_files_active(files):\n",
    "    \"\"\"Waits for the given files to be active.\n",
    "    \n",
    "    Some files uploaded to the Gemini API need to be processed before they can be\n",
    "    used as prompt inputs. The status can be seen by querying the file's \"state\"\n",
    "    field.\n",
    "    \n",
    "    This implementation uses a simple blocking polling loop. Production code\n",
    "    should probably employ a more sophisticated approach.\n",
    "    \"\"\"\n",
    "    for name in (file.name for file in files):\n",
    "        file = genai.get_file(name)\n",
    "        while file.state.name == \"PROCESSING\":\n",
    "          print(\".\", end=\"\", flush=True)\n",
    "          time.sleep(10)\n",
    "          file = genai.get_file(name)\n",
    "        if file.state.name != \"ACTIVE\":\n",
    "          raise Exception(f\"File {file.name} failed to process\")\n",
    "    print(\"All files ready\")"
   ]
  },
  {
   "cell_type": "markdown",
   "id": "a8ad0a10",
   "metadata": {
    "papermill": {
     "duration": 0.012548,
     "end_time": "2024-11-25T21:01:04.732997",
     "exception": false,
     "start_time": "2024-11-25T21:01:04.720449",
     "status": "completed"
    },
    "tags": []
   },
   "source": [
    "## Upload the Medicine Files to Gemini"
   ]
  },
  {
   "cell_type": "code",
   "execution_count": 19,
   "id": "0870bfbc",
   "metadata": {
    "execution": {
     "iopub.execute_input": "2024-11-25T21:01:04.759294Z",
     "iopub.status.busy": "2024-11-25T21:01:04.758881Z",
     "iopub.status.idle": "2024-11-25T21:01:08.067860Z",
     "shell.execute_reply": "2024-11-25T21:01:08.066264Z"
    },
    "papermill": {
     "duration": 3.325157,
     "end_time": "2024-11-25T21:01:08.070448",
     "exception": false,
     "start_time": "2024-11-25T21:01:04.745291",
     "status": "completed"
    },
    "tags": []
   },
   "outputs": [
    {
     "name": "stdout",
     "output_type": "stream",
     "text": [
      "Uploaded file 'medicines.pdf' as: https://generativelanguage.googleapis.com/v1beta/files/2v8l2dsswlq4\n",
      "All files ready\n"
     ]
    }
   ],
   "source": [
    "files = [upload_to_gemini(pdf_file, mime_type=\"application/pdf\")]\n",
    "\n",
    "wait_for_files_active(files)"
   ]
  },
  {
   "cell_type": "markdown",
   "id": "595e83e0",
   "metadata": {
    "papermill": {
     "duration": 0.012058,
     "end_time": "2024-11-25T21:01:08.095351",
     "exception": false,
     "start_time": "2024-11-25T21:01:08.083293",
     "status": "completed"
    },
    "tags": []
   },
   "source": [
    "## Load the Gemini 1.5 model"
   ]
  },
  {
   "cell_type": "code",
   "execution_count": 20,
   "id": "a69a327c",
   "metadata": {
    "execution": {
     "iopub.execute_input": "2024-11-25T21:01:08.122103Z",
     "iopub.status.busy": "2024-11-25T21:01:08.121601Z",
     "iopub.status.idle": "2024-11-25T21:01:18.040388Z",
     "shell.execute_reply": "2024-11-25T21:01:18.039027Z"
    },
    "papermill": {
     "duration": 9.935111,
     "end_time": "2024-11-25T21:01:18.043074",
     "exception": false,
     "start_time": "2024-11-25T21:01:08.107963",
     "status": "completed"
    },
    "tags": []
   },
   "outputs": [],
   "source": [
    "# Create a cache with a 15 minute TTL\n",
    "cache = caching.CachedContent.create(\n",
    "    model='models/gemini-1.5-flash-002',\n",
    "    display_name='medicines',\n",
    "    system_instruction=(\n",
    "        'You are a doctor, and your job is to answer '\n",
    "        'the user\\'s query based on the file you have access to.'\n",
    "    ),\n",
    "    contents=files,\n",
    "    ttl=datetime.timedelta(minutes=15),\n",
    ")"
   ]
  },
  {
   "cell_type": "code",
   "execution_count": 21,
   "id": "5197731b",
   "metadata": {
    "execution": {
     "iopub.execute_input": "2024-11-25T21:01:18.070324Z",
     "iopub.status.busy": "2024-11-25T21:01:18.069891Z",
     "iopub.status.idle": "2024-11-25T21:01:18.076133Z",
     "shell.execute_reply": "2024-11-25T21:01:18.074983Z"
    },
    "papermill": {
     "duration": 0.022257,
     "end_time": "2024-11-25T21:01:18.078512",
     "exception": false,
     "start_time": "2024-11-25T21:01:18.056255",
     "status": "completed"
    },
    "tags": []
   },
   "outputs": [],
   "source": [
    "# Construct a GenerativeModel which uses the created cache\n",
    "\n",
    "generation_config = {\n",
    "  \"temperature\": 0,\n",
    "  \"top_p\": 0.7,\n",
    "  \"top_k\": 32,\n",
    "  \"max_output_tokens\": 8192,\n",
    "  \"response_mime_type\": \"text/plain\",\n",
    "}\n",
    "\n",
    "model = genai.GenerativeModel.from_cached_content(cached_content=cache, generation_config=generation_config)\n",
    "chat_session = model.start_chat()"
   ]
  },
  {
   "cell_type": "code",
   "execution_count": 22,
   "id": "cdaa44bb",
   "metadata": {
    "execution": {
     "iopub.execute_input": "2024-11-25T21:01:18.105456Z",
     "iopub.status.busy": "2024-11-25T21:01:18.105050Z",
     "iopub.status.idle": "2024-11-25T21:01:26.914880Z",
     "shell.execute_reply": "2024-11-25T21:01:26.913600Z"
    },
    "papermill": {
     "duration": 8.826272,
     "end_time": "2024-11-25T21:01:26.917549",
     "exception": false,
     "start_time": "2024-11-25T21:01:18.091277",
     "status": "completed"
    },
    "tags": []
   },
   "outputs": [
    {
     "name": "stdout",
     "output_type": "stream",
     "text": [
      "Token Count: 296420\n"
     ]
    }
   ],
   "source": [
    "response = model.count_tokens(files)\n",
    "print(f\"Token Count: {response.total_tokens}\")"
   ]
  },
  {
   "cell_type": "markdown",
   "id": "24f15550",
   "metadata": {
    "papermill": {
     "duration": 0.012168,
     "end_time": "2024-11-25T21:01:26.943299",
     "exception": false,
     "start_time": "2024-11-25T21:01:26.931131",
     "status": "completed"
    },
    "tags": []
   },
   "source": [
    "***"
   ]
  },
  {
   "cell_type": "markdown",
   "id": "3750f261",
   "metadata": {
    "papermill": {
     "duration": 0.011904,
     "end_time": "2024-11-25T21:01:26.970768",
     "exception": false,
     "start_time": "2024-11-25T21:01:26.958864",
     "status": "completed"
    },
    "tags": []
   },
   "source": [
    "## Ask Gemini 1.5 Questions About Medicines and Diseases"
   ]
  },
  {
   "cell_type": "code",
   "execution_count": 23,
   "id": "8b3f3793",
   "metadata": {
    "execution": {
     "iopub.execute_input": "2024-11-25T21:01:26.997829Z",
     "iopub.status.busy": "2024-11-25T21:01:26.997415Z",
     "iopub.status.idle": "2024-11-25T21:01:46.316578Z",
     "shell.execute_reply": "2024-11-25T21:01:46.315126Z"
    },
    "papermill": {
     "duration": 19.33583,
     "end_time": "2024-11-25T21:01:46.319599",
     "exception": false,
     "start_time": "2024-11-25T21:01:26.983769",
     "status": "completed"
    },
    "tags": []
   },
   "outputs": [
    {
     "data": {
      "text/markdown": [
       "The provided text contains summaries of European Public Assessment Reports (EPARs) for various vaccines, detailing their uses, administration, mechanisms of action, benefits, risks, and authorization statuses within the EU.\n"
      ],
      "text/plain": [
       "<IPython.core.display.Markdown object>"
      ]
     },
     "execution_count": 23,
     "metadata": {},
     "output_type": "execute_result"
    }
   ],
   "source": [
    "response = chat_session.send_message(\"Tell me about what you read in one sentence.\")\n",
    "Markdown(response.text)"
   ]
  },
  {
   "cell_type": "code",
   "execution_count": 24,
   "id": "c779f54f",
   "metadata": {
    "execution": {
     "iopub.execute_input": "2024-11-25T21:01:46.347498Z",
     "iopub.status.busy": "2024-11-25T21:01:46.347093Z",
     "iopub.status.idle": "2024-11-25T21:02:04.486388Z",
     "shell.execute_reply": "2024-11-25T21:02:04.485021Z"
    },
    "papermill": {
     "duration": 18.156463,
     "end_time": "2024-11-25T21:02:04.489276",
     "exception": false,
     "start_time": "2024-11-25T21:01:46.332813",
     "status": "completed"
    },
    "tags": []
   },
   "outputs": [
    {
     "data": {
      "text/markdown": [
       "Supemtek is a quadrivalent influenza vaccine (containing four different influenza strains) given as a single intramuscular injection to adults.  Studies showed it to be at least as effective as a comparator vaccine in preventing influenza, with mostly mild side effects.  It received EU marketing authorization in November 2020.\n"
      ],
      "text/plain": [
       "<IPython.core.display.Markdown object>"
      ]
     },
     "execution_count": 24,
     "metadata": {},
     "output_type": "execute_result"
    }
   ],
   "source": [
    "response = chat_session.send_message(\"Please write a summary of Supemtek.\")\n",
    "Markdown(response.text)"
   ]
  },
  {
   "cell_type": "code",
   "execution_count": 25,
   "id": "03517054",
   "metadata": {
    "execution": {
     "iopub.execute_input": "2024-11-25T21:02:04.516906Z",
     "iopub.status.busy": "2024-11-25T21:02:04.516511Z",
     "iopub.status.idle": "2024-11-25T21:02:22.418309Z",
     "shell.execute_reply": "2024-11-25T21:02:22.417029Z"
    },
    "papermill": {
     "duration": 17.918582,
     "end_time": "2024-11-25T21:02:22.421013",
     "exception": false,
     "start_time": "2024-11-25T21:02:04.502431",
     "status": "completed"
    },
    "tags": []
   },
   "outputs": [
    {
     "data": {
      "text/markdown": [
       "The Supemtek vaccine should be injected into a muscle, preferably in the upper arm.\n"
      ],
      "text/plain": [
       "<IPython.core.display.Markdown object>"
      ]
     },
     "execution_count": 25,
     "metadata": {},
     "output_type": "execute_result"
    }
   ],
   "source": [
    "response = chat_session.send_message(\"Where on the body should I get the Supemtek vaccine?\")\n",
    "Markdown(response.text)"
   ]
  },
  {
   "cell_type": "code",
   "execution_count": 26,
   "id": "f97dc425",
   "metadata": {
    "execution": {
     "iopub.execute_input": "2024-11-25T21:02:22.449517Z",
     "iopub.status.busy": "2024-11-25T21:02:22.449009Z",
     "iopub.status.idle": "2024-11-25T21:02:40.259337Z",
     "shell.execute_reply": "2024-11-25T21:02:40.258044Z"
    },
    "papermill": {
     "duration": 17.827666,
     "end_time": "2024-11-25T21:02:40.261840",
     "exception": false,
     "start_time": "2024-11-25T21:02:22.434174",
     "status": "completed"
    },
    "tags": []
   },
   "outputs": [
    {
     "data": {
      "text/markdown": [
       "The recommended dose for Fendrix is four injections given one month apart, with the fourth injection given four months after the third.\n"
      ],
      "text/plain": [
       "<IPython.core.display.Markdown object>"
      ]
     },
     "execution_count": 26,
     "metadata": {},
     "output_type": "execute_result"
    }
   ],
   "source": [
    "response = chat_session.send_message(\"What is the recommended dose for Fendrix?\")\n",
    "Markdown(response.text)"
   ]
  },
  {
   "cell_type": "code",
   "execution_count": 27,
   "id": "140748c8",
   "metadata": {
    "execution": {
     "iopub.execute_input": "2024-11-25T21:02:40.289985Z",
     "iopub.status.busy": "2024-11-25T21:02:40.289532Z",
     "iopub.status.idle": "2024-11-25T21:02:58.641038Z",
     "shell.execute_reply": "2024-11-25T21:02:58.639850Z"
    },
    "papermill": {
     "duration": 18.368603,
     "end_time": "2024-11-25T21:02:58.643429",
     "exception": false,
     "start_time": "2024-11-25T21:02:40.274826",
     "status": "completed"
    },
    "tags": []
   },
   "outputs": [
    {
     "data": {
      "text/markdown": [
       "The most common side effects of Aflunov in adults are headache, myalgia, injection site reactions, tiredness, malaise, and chills.  Children may experience additional side effects such as nausea, diarrhea, and vomiting.  Aflunov should not be given to those with severe allergic reactions to its components or to those with a severe sudden fever.  The full list of side effects and restrictions can be found in the package leaflet.\n"
      ],
      "text/plain": [
       "<IPython.core.display.Markdown object>"
      ]
     },
     "execution_count": 27,
     "metadata": {},
     "output_type": "execute_result"
    }
   ],
   "source": [
    "response = chat_session.send_message(\"What are the risks associated with Aflunov?\")\n",
    "Markdown(response.text)"
   ]
  },
  {
   "cell_type": "code",
   "execution_count": 28,
   "id": "a16f18f2",
   "metadata": {
    "execution": {
     "iopub.execute_input": "2024-11-25T21:02:58.672529Z",
     "iopub.status.busy": "2024-11-25T21:02:58.672106Z",
     "iopub.status.idle": "2024-11-25T21:03:17.719532Z",
     "shell.execute_reply": "2024-11-25T21:03:17.718332Z"
    },
    "papermill": {
     "duration": 19.065054,
     "end_time": "2024-11-25T21:03:17.721811",
     "exception": false,
     "start_time": "2024-11-25T21:02:58.656757",
     "status": "completed"
    },
    "tags": []
   },
   "outputs": [
    {
     "data": {
      "text/markdown": [
       "Based on the provided text, the COVID-19 vaccines mentioned are:\n",
       "\n",
       "* **Nuvaxovid:**  This vaccine and its adapted versions (XBB.1.5 and JN.1) target specific variants of the SARS-CoV-2 virus.\n",
       "* **Comirnaty:** This vaccine and its adapted versions (Original/Omicron BA.4-5, Omicron XBB.1.5, JN.1, and KP.2) target specific variants of the SARS-CoV-2 virus.\n",
       "* **Spikevax:** This vaccine and its adapted versions (bivalent Original/Omicron BA.1, bivalent Original/Omicron BA.4-5, XBB.1.5, and JN.1) target specific variants of the SARS-CoV-2 virus.\n",
       "* **Bimervax:** This vaccine targets the Alpha and Beta variants of the SARS-CoV-2 spike protein.\n",
       "\n",
       "Please note that this list may not be exhaustive of all COVID-19 vaccines available.  The document only covers those specifically mentioned.\n"
      ],
      "text/plain": [
       "<IPython.core.display.Markdown object>"
      ]
     },
     "execution_count": 28,
     "metadata": {},
     "output_type": "execute_result"
    }
   ],
   "source": [
    "response = chat_session.send_message(\"Please list the vaccines for Covid-19.\")\n",
    "Markdown(response.text)"
   ]
  },
  {
   "cell_type": "code",
   "execution_count": 29,
   "id": "f734fb76",
   "metadata": {
    "execution": {
     "iopub.execute_input": "2024-11-25T21:03:17.749820Z",
     "iopub.status.busy": "2024-11-25T21:03:17.749412Z",
     "iopub.status.idle": "2024-11-25T21:03:34.883491Z",
     "shell.execute_reply": "2024-11-25T21:03:34.882363Z"
    },
    "papermill": {
     "duration": 17.151017,
     "end_time": "2024-11-25T21:03:34.886128",
     "exception": false,
     "start_time": "2024-11-25T21:03:17.735111",
     "status": "completed"
    },
    "tags": []
   },
   "outputs": [
    {
     "data": {
      "text/markdown": [
       "Qdenga and Dengvaxia\n"
      ],
      "text/plain": [
       "<IPython.core.display.Markdown object>"
      ]
     },
     "execution_count": 29,
     "metadata": {},
     "output_type": "execute_result"
    }
   ],
   "source": [
    "response = chat_session.send_message(\"What are the recommended vaccines to prevent dengue? Give me only their names.\")\n",
    "Markdown(response.text)"
   ]
  },
  {
   "cell_type": "code",
   "execution_count": 30,
   "id": "45946b33",
   "metadata": {
    "execution": {
     "iopub.execute_input": "2024-11-25T21:03:34.914368Z",
     "iopub.status.busy": "2024-11-25T21:03:34.913915Z",
     "iopub.status.idle": "2024-11-25T21:03:52.717755Z",
     "shell.execute_reply": "2024-11-25T21:03:52.716639Z"
    },
    "papermill": {
     "duration": 17.820844,
     "end_time": "2024-11-25T21:03:52.720327",
     "exception": false,
     "start_time": "2024-11-25T21:03:34.899483",
     "status": "completed"
    },
    "tags": []
   },
   "outputs": [
    {
     "data": {
      "text/markdown": [
       "No, the provided text states that Qdenga should not be used in women who are pregnant or breastfeeding.\n"
      ],
      "text/plain": [
       "<IPython.core.display.Markdown object>"
      ]
     },
     "execution_count": 30,
     "metadata": {},
     "output_type": "execute_result"
    }
   ],
   "source": [
    "response = chat_session.send_message(\"Can pregnant women be vaccinated with Qdenga?\")\n",
    "Markdown(response.text)"
   ]
  },
  {
   "cell_type": "code",
   "execution_count": 31,
   "id": "cd36c038",
   "metadata": {
    "execution": {
     "iopub.execute_input": "2024-11-25T21:03:52.751013Z",
     "iopub.status.busy": "2024-11-25T21:03:52.750556Z",
     "iopub.status.idle": "2024-11-25T21:04:11.489653Z",
     "shell.execute_reply": "2024-11-25T21:04:11.488606Z"
    },
    "papermill": {
     "duration": 18.757959,
     "end_time": "2024-11-25T21:04:11.491874",
     "exception": false,
     "start_time": "2024-11-25T21:03:52.733915",
     "status": "completed"
    },
    "tags": []
   },
   "outputs": [
    {
     "data": {
      "text/markdown": [
       "Based solely on the fact that Brazil is a tropical country and the USA is not, a person would be more likely to be infected with dengue in Brazil.  However, this is a simplification and the actual risk depends on many factors beyond climate, including specific geographic location within each country, time of year, and mosquito control measures.\n"
      ],
      "text/plain": [
       "<IPython.core.display.Markdown object>"
      ]
     },
     "execution_count": 31,
     "metadata": {},
     "output_type": "execute_result"
    }
   ],
   "source": [
    "response = chat_session.send_message(\"In which country is a person more likely to be infected with dengue: Brazil or USA? Consider that only Brazil is a tropical country.\")\n",
    "Markdown(response.text)"
   ]
  },
  {
   "cell_type": "markdown",
   "id": "21846a97",
   "metadata": {
    "papermill": {
     "duration": 0.013167,
     "end_time": "2024-11-25T21:04:11.518481",
     "exception": false,
     "start_time": "2024-11-25T21:04:11.505314",
     "status": "completed"
    },
    "tags": []
   },
   "source": [
    "## Conclusion\n",
    "***"
   ]
  },
  {
   "cell_type": "markdown",
   "id": "76395bf1",
   "metadata": {
    "papermill": {
     "duration": 0.013018,
     "end_time": "2024-11-25T21:04:11.544914",
     "exception": false,
     "start_time": "2024-11-25T21:04:11.531896",
     "status": "completed"
    },
    "tags": []
   },
   "source": [
    "Here we were able to demonstrate a very interesting use case of Gemini’s long window context, an assistant that can help doctors and patients get information from a trusted data source (European Medicines Agency in this case). The answers were accurate enough even with a very simple prompt. We can imagine that such a use case has the potential to positively impact public health and lives.\n",
    "\n",
    "We could see how long window context was essential to provide accurate information from files without the need for other techniques like RAG. We also used context caching, which is a great feature for reducing operational costs in scenarios where a substantial initial context is referenced repeatedly by shorter requests.\n",
    "\n",
    "Many thanks to the Google team for providing an excellent model like Gemini and an API that can be used for free. The use cases that can emerge with Gemini from now on will certainly be amazing."
   ]
  }
 ],
 "metadata": {
  "kaggle": {
   "accelerator": "none",
   "dataSources": [
    {
     "databundleVersionId": 9881586,
     "sourceId": 83735,
     "sourceType": "competition"
    },
    {
     "datasetId": 6143701,
     "sourceId": 9983736,
     "sourceType": "datasetVersion"
    }
   ],
   "dockerImageVersionId": 30786,
   "isGpuEnabled": false,
   "isInternetEnabled": true,
   "language": "python",
   "sourceType": "notebook"
  },
  "kernelspec": {
   "display_name": "Python 3",
   "language": "python",
   "name": "python3"
  },
  "language_info": {
   "codemirror_mode": {
    "name": "ipython",
    "version": 3
   },
   "file_extension": ".py",
   "mimetype": "text/x-python",
   "name": "python",
   "nbconvert_exporter": "python",
   "pygments_lexer": "ipython3",
   "version": "3.10.14"
  },
  "papermill": {
   "default_parameters": {},
   "duration": 624.011183,
   "end_time": "2024-11-25T21:04:12.482278",
   "environment_variables": {},
   "exception": null,
   "input_path": "__notebook__.ipynb",
   "output_path": "__notebook__.ipynb",
   "parameters": {},
   "start_time": "2024-11-25T20:53:48.471095",
   "version": "2.6.0"
  }
 },
 "nbformat": 4,
 "nbformat_minor": 5
}
